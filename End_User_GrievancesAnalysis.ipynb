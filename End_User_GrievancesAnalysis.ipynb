{
 "cells": [
  {
   "cell_type": "code",
   "execution_count": 1,
   "id": "6c1bbaa4",
   "metadata": {},
   "outputs": [
    {
     "name": "stderr",
     "output_type": "stream",
     "text": [
      "[nltk_data] Downloading package stopwords to\n",
      "[nltk_data]     /Users/sparshchandra/nltk_data...\n",
      "[nltk_data]   Package stopwords is already up-to-date!\n"
     ]
    }
   ],
   "source": [
    "import pandas as pd\n",
    "import numpy as np\n",
    "import re\n",
    "\n",
    "import nltk\n",
    "nltk.download('stopwords')\n",
    "\n",
    "from nltk.corpus import stopwords\n",
    "\n",
    "import matplotlib.pyplot as plt\n",
    "\n",
    "from sklearn.feature_extraction.text import TfidfTransformer\n",
    "from sklearn.model_selection import train_test_split\n",
    "\n",
    "\n",
    "%matplotlib inline"
   ]
  },
  {
   "cell_type": "code",
   "execution_count": null,
   "id": "2aa868a4",
   "metadata": {},
   "outputs": [],
   "source": [
    "# The following script loads the CSV file containing the dataset into a Pandas dataframe. \n",
    "# This script displays the general format of the dataframe along with the first five rows."
   ]
  },
  {
   "cell_type": "code",
   "execution_count": 2,
   "id": "90083458",
   "metadata": {},
   "outputs": [
    {
     "name": "stdout",
     "output_type": "stream",
     "text": [
      "(1025010, 19)\n"
     ]
    },
    {
     "data": {
      "text/html": [
       "<div>\n",
       "<style scoped>\n",
       "    .dataframe tbody tr th:only-of-type {\n",
       "        vertical-align: middle;\n",
       "    }\n",
       "\n",
       "    .dataframe tbody tr th {\n",
       "        vertical-align: top;\n",
       "    }\n",
       "\n",
       "    .dataframe thead th {\n",
       "        text-align: right;\n",
       "    }\n",
       "</style>\n",
       "<table border=\"1\" class=\"dataframe\">\n",
       "  <thead>\n",
       "    <tr style=\"text-align: right;\">\n",
       "      <th></th>\n",
       "      <th>Date received</th>\n",
       "      <th>Product</th>\n",
       "      <th>Sub-product</th>\n",
       "      <th>Issue</th>\n",
       "      <th>Sub-issue</th>\n",
       "      <th>Consumer Complaint</th>\n",
       "      <th>Company Public Response</th>\n",
       "      <th>Company</th>\n",
       "      <th>State</th>\n",
       "      <th>ZIP code</th>\n",
       "      <th>Tags</th>\n",
       "      <th>Consumer consent provided?</th>\n",
       "      <th>Submitted via</th>\n",
       "      <th>Date Sent to Company</th>\n",
       "      <th>Company Response to Consumer</th>\n",
       "      <th>Timely response?</th>\n",
       "      <th>Consumer disputed?</th>\n",
       "      <th>Complaint ID</th>\n",
       "      <th>Unnamed: 18</th>\n",
       "    </tr>\n",
       "  </thead>\n",
       "  <tbody>\n",
       "    <tr>\n",
       "      <th>0</th>\n",
       "      <td>03-12-2014</td>\n",
       "      <td>Mortgage</td>\n",
       "      <td>Other mortgage</td>\n",
       "      <td>Loan modification,collection,foreclosure</td>\n",
       "      <td>NaN</td>\n",
       "      <td>NaN</td>\n",
       "      <td>NaN</td>\n",
       "      <td>M&amp;T BANK CORPORATION</td>\n",
       "      <td>MI</td>\n",
       "      <td>48382</td>\n",
       "      <td>NaN</td>\n",
       "      <td>NaN</td>\n",
       "      <td>Referral</td>\n",
       "      <td>03/17/2014</td>\n",
       "      <td>Closed with explanation</td>\n",
       "      <td>Yes</td>\n",
       "      <td>No</td>\n",
       "      <td>759217</td>\n",
       "      <td>NaN</td>\n",
       "    </tr>\n",
       "    <tr>\n",
       "      <th>1</th>\n",
       "      <td>10-01-2016</td>\n",
       "      <td>Credit reporting</td>\n",
       "      <td>NaN</td>\n",
       "      <td>Incorrect information on credit report</td>\n",
       "      <td>Account status</td>\n",
       "      <td>I have outdated information on my credit repor...</td>\n",
       "      <td>Company has responded to the consumer and the ...</td>\n",
       "      <td>TRANSUNION INTERMEDIATE HOLDINGS, INC.</td>\n",
       "      <td>AL</td>\n",
       "      <td>352XX</td>\n",
       "      <td>NaN</td>\n",
       "      <td>Consent provided</td>\n",
       "      <td>Web</td>\n",
       "      <td>10-05-2016</td>\n",
       "      <td>Closed with explanation</td>\n",
       "      <td>Yes</td>\n",
       "      <td>No</td>\n",
       "      <td>2141773</td>\n",
       "      <td>NaN</td>\n",
       "    </tr>\n",
       "    <tr>\n",
       "      <th>2</th>\n",
       "      <td>10/17/2016</td>\n",
       "      <td>Consumer Loan</td>\n",
       "      <td>Vehicle loan</td>\n",
       "      <td>Managing the loan or lease</td>\n",
       "      <td>NaN</td>\n",
       "      <td>I purchased a new car on XXXX XXXX. The car de...</td>\n",
       "      <td>NaN</td>\n",
       "      <td>CITIZENS FINANCIAL GROUP, INC.</td>\n",
       "      <td>PA</td>\n",
       "      <td>177XX</td>\n",
       "      <td>Older American</td>\n",
       "      <td>Consent provided</td>\n",
       "      <td>Web</td>\n",
       "      <td>10/20/2016</td>\n",
       "      <td>Closed with explanation</td>\n",
       "      <td>Yes</td>\n",
       "      <td>No</td>\n",
       "      <td>2163100</td>\n",
       "      <td>NaN</td>\n",
       "    </tr>\n",
       "    <tr>\n",
       "      <th>3</th>\n",
       "      <td>06-08-2014</td>\n",
       "      <td>Credit card</td>\n",
       "      <td>NaN</td>\n",
       "      <td>Bankruptcy</td>\n",
       "      <td>NaN</td>\n",
       "      <td>NaN</td>\n",
       "      <td>NaN</td>\n",
       "      <td>AMERICAN EXPRESS COMPANY</td>\n",
       "      <td>ID</td>\n",
       "      <td>83854</td>\n",
       "      <td>Older American</td>\n",
       "      <td>NaN</td>\n",
       "      <td>Web</td>\n",
       "      <td>06-10-2014</td>\n",
       "      <td>Closed with explanation</td>\n",
       "      <td>Yes</td>\n",
       "      <td>Yes</td>\n",
       "      <td>885638</td>\n",
       "      <td>NaN</td>\n",
       "    </tr>\n",
       "    <tr>\n",
       "      <th>4</th>\n",
       "      <td>09/13/2014</td>\n",
       "      <td>Debt collection</td>\n",
       "      <td>Credit card</td>\n",
       "      <td>Communication tactics</td>\n",
       "      <td>Frequent or repeated calls</td>\n",
       "      <td>NaN</td>\n",
       "      <td>NaN</td>\n",
       "      <td>CITIBANK, N.A.</td>\n",
       "      <td>VA</td>\n",
       "      <td>23233</td>\n",
       "      <td>NaN</td>\n",
       "      <td>NaN</td>\n",
       "      <td>Web</td>\n",
       "      <td>09/13/2014</td>\n",
       "      <td>Closed with explanation</td>\n",
       "      <td>Yes</td>\n",
       "      <td>Yes</td>\n",
       "      <td>1027760</td>\n",
       "      <td>NaN</td>\n",
       "    </tr>\n",
       "  </tbody>\n",
       "</table>\n",
       "</div>"
      ],
      "text/plain": [
       "  Date received           Product     Sub-product  \\\n",
       "0    03-12-2014          Mortgage  Other mortgage   \n",
       "1    10-01-2016  Credit reporting             NaN   \n",
       "2    10/17/2016     Consumer Loan    Vehicle loan   \n",
       "3    06-08-2014       Credit card             NaN   \n",
       "4    09/13/2014   Debt collection     Credit card   \n",
       "\n",
       "                                      Issue                   Sub-issue  \\\n",
       "0  Loan modification,collection,foreclosure                         NaN   \n",
       "1    Incorrect information on credit report              Account status   \n",
       "2                Managing the loan or lease                         NaN   \n",
       "3                                Bankruptcy                         NaN   \n",
       "4                     Communication tactics  Frequent or repeated calls   \n",
       "\n",
       "                                  Consumer Complaint  \\\n",
       "0                                                NaN   \n",
       "1  I have outdated information on my credit repor...   \n",
       "2  I purchased a new car on XXXX XXXX. The car de...   \n",
       "3                                                NaN   \n",
       "4                                                NaN   \n",
       "\n",
       "                             Company Public Response  \\\n",
       "0                                                NaN   \n",
       "1  Company has responded to the consumer and the ...   \n",
       "2                                                NaN   \n",
       "3                                                NaN   \n",
       "4                                                NaN   \n",
       "\n",
       "                                  Company State ZIP code            Tags  \\\n",
       "0                    M&T BANK CORPORATION    MI    48382             NaN   \n",
       "1  TRANSUNION INTERMEDIATE HOLDINGS, INC.    AL    352XX             NaN   \n",
       "2          CITIZENS FINANCIAL GROUP, INC.    PA    177XX  Older American   \n",
       "3                AMERICAN EXPRESS COMPANY    ID    83854  Older American   \n",
       "4                          CITIBANK, N.A.    VA    23233             NaN   \n",
       "\n",
       "  Consumer consent provided? Submitted via Date Sent to Company  \\\n",
       "0                        NaN      Referral           03/17/2014   \n",
       "1           Consent provided           Web           10-05-2016   \n",
       "2           Consent provided           Web           10/20/2016   \n",
       "3                        NaN           Web           06-10-2014   \n",
       "4                        NaN           Web           09/13/2014   \n",
       "\n",
       "  Company Response to Consumer Timely response? Consumer disputed?  \\\n",
       "0      Closed with explanation              Yes                 No   \n",
       "1      Closed with explanation              Yes                 No   \n",
       "2      Closed with explanation              Yes                 No   \n",
       "3      Closed with explanation              Yes                Yes   \n",
       "4      Closed with explanation              Yes                Yes   \n",
       "\n",
       "   Complaint ID  Unnamed: 18  \n",
       "0        759217          NaN  \n",
       "1       2141773          NaN  \n",
       "2       2163100          NaN  \n",
       "3        885638          NaN  \n",
       "4       1027760          NaN  "
      ]
     },
     "execution_count": 2,
     "metadata": {},
     "output_type": "execute_result"
    }
   ],
   "source": [
    "dataset = pd.read_csv(\"Consumer_Complaints.csv\")\n",
    "print(dataset.shape)\n",
    "dataset.head()"
   ]
  },
  {
   "cell_type": "code",
   "execution_count": null,
   "id": "4637dd95",
   "metadata": {},
   "outputs": [],
   "source": [
    "# The result reveals that there are over a million entries in the dataset, organized into 19 columns.\n",
    "\n",
    "# Only product complaints from actual customers are of relevance to us. \n",
    "# We do this by just keeping the columns for \"Consumer Complaint\" and \"Product,\" while discarding the rest."
   ]
  },
  {
   "cell_type": "code",
   "execution_count": 3,
   "id": "316636ce",
   "metadata": {},
   "outputs": [
    {
     "data": {
      "text/html": [
       "<div>\n",
       "<style scoped>\n",
       "    .dataframe tbody tr th:only-of-type {\n",
       "        vertical-align: middle;\n",
       "    }\n",
       "\n",
       "    .dataframe tbody tr th {\n",
       "        vertical-align: top;\n",
       "    }\n",
       "\n",
       "    .dataframe thead th {\n",
       "        text-align: right;\n",
       "    }\n",
       "</style>\n",
       "<table border=\"1\" class=\"dataframe\">\n",
       "  <thead>\n",
       "    <tr style=\"text-align: right;\">\n",
       "      <th></th>\n",
       "      <th>Consumer Complaint</th>\n",
       "      <th>Product</th>\n",
       "    </tr>\n",
       "  </thead>\n",
       "  <tbody>\n",
       "    <tr>\n",
       "      <th>0</th>\n",
       "      <td>NaN</td>\n",
       "      <td>Mortgage</td>\n",
       "    </tr>\n",
       "    <tr>\n",
       "      <th>1</th>\n",
       "      <td>I have outdated information on my credit repor...</td>\n",
       "      <td>Credit reporting</td>\n",
       "    </tr>\n",
       "    <tr>\n",
       "      <th>2</th>\n",
       "      <td>I purchased a new car on XXXX XXXX. The car de...</td>\n",
       "      <td>Consumer Loan</td>\n",
       "    </tr>\n",
       "    <tr>\n",
       "      <th>3</th>\n",
       "      <td>NaN</td>\n",
       "      <td>Credit card</td>\n",
       "    </tr>\n",
       "    <tr>\n",
       "      <th>4</th>\n",
       "      <td>NaN</td>\n",
       "      <td>Debt collection</td>\n",
       "    </tr>\n",
       "  </tbody>\n",
       "</table>\n",
       "</div>"
      ],
      "text/plain": [
       "                                  Consumer Complaint           Product\n",
       "0                                                NaN          Mortgage\n",
       "1  I have outdated information on my credit repor...  Credit reporting\n",
       "2  I purchased a new car on XXXX XXXX. The car de...     Consumer Loan\n",
       "3                                                NaN       Credit card\n",
       "4                                                NaN   Debt collection"
      ]
     },
     "execution_count": 3,
     "metadata": {},
     "output_type": "execute_result"
    }
   ],
   "source": [
    "complaints_df = dataset.filter([\"Consumer Complaint\", \"Product\"], axis = 1)\n",
    "complaints_df.head()"
   ]
  },
  {
   "cell_type": "code",
   "execution_count": null,
   "id": "153ce316",
   "metadata": {},
   "outputs": [],
   "source": [
    "# Data Analysis and Preprocessing\n",
    "# Data cleansing, also known as preparation, is a frequent job when dealing with huge datasets. \n",
    "# This dataset will serve as an example for us to demonstrate. \n",
    "# Use this script to see how many records in our Consumer Complaint and Product columns are lacking data. \n",
    "# According to the results, there are 747196 blanks in the Consumer Complaint column."
   ]
  },
  {
   "cell_type": "code",
   "execution_count": 4,
   "id": "b96b3c86",
   "metadata": {},
   "outputs": [
    {
     "data": {
      "text/plain": [
       "Consumer Complaint    747196\n",
       "Product                    0\n",
       "dtype: int64"
      ]
     },
     "execution_count": 4,
     "metadata": {},
     "output_type": "execute_result"
    }
   ],
   "source": [
    "complaints_df.isnull().sum()\n"
   ]
  },
  {
   "cell_type": "code",
   "execution_count": null,
   "id": "d714aa5a",
   "metadata": {},
   "outputs": [],
   "source": [
    "# The entries in our dataset that have missing or empty values will be deleted. \n",
    "# The following code snippet shows how to use the dropna() method in Pandas to get rid of all null values. \n",
    "# The result verifies that neither column was missing any data after the nulls were removed."
   ]
  },
  {
   "cell_type": "code",
   "execution_count": 5,
   "id": "94999cdb",
   "metadata": {},
   "outputs": [
    {
     "name": "stdout",
     "output_type": "stream",
     "text": [
      "(277814, 2)\n"
     ]
    },
    {
     "data": {
      "text/plain": [
       "Consumer Complaint    0\n",
       "Product               0\n",
       "dtype: int64"
      ]
     },
     "execution_count": 5,
     "metadata": {},
     "output_type": "execute_result"
    }
   ],
   "source": [
    "complaints_df.dropna(inplace=True)\n",
    "print(complaints_df.shape)\n",
    "complaints_df.isnull().sum()"
   ]
  },
  {
   "cell_type": "code",
   "execution_count": null,
   "id": "bee3490a",
   "metadata": {},
   "outputs": [],
   "source": [
    "# Due to time and storage restrictions, we will only use the first 100,000 records in our dataset to \n",
    "# develop and evaluate our model. \n",
    "\n",
    "# Let's look at how the first 100,000 recordings break out in terms of the \n",
    "# kind of products people are complaining about."
   ]
  },
  {
   "cell_type": "code",
   "execution_count": 6,
   "id": "011b5daa",
   "metadata": {},
   "outputs": [
    {
     "data": {
      "image/png": "[encoded data removed]",
      "text/plain": [
       "<Figure size 576x432 with 1 Axes>"
      ]
     },
     "metadata": {
      "needs_background": "light"
     },
     "output_type": "display_data"
    }
   ],
   "source": [
    "complaints_df = complaints_df[:100000]\n",
    "complaints_df.rename(columns={'Consumer Complaint': 'Consumer_Complaint'}, inplace=True)\n",
    "fig = plt.figure(figsize=(8,6))\n",
    "colors = ['grey','grey','grey','grey','grey','grey','grey','grey','grey',\n",
    "    'grey','darkblue','darkblue','darkblue']\n",
    "complaints_df.groupby('Product').Consumer_Complaint.count().sort_values().plot.barh(\n",
    "    ylim=0, color=colors, title= 'NUMBER OF COMPLAINTS IN EACH PRODUCT CATEGORY\\n')\n",
    "plt.xlabel('Number of ocurrences', fontsize = 10);"
   ]
  },
  {
   "cell_type": "code",
   "execution_count": null,
   "id": "2ea4e59f",
   "metadata": {},
   "outputs": [],
   "source": [
    "# Based on the data above, it seems that debt collection is the most common source of customer dissatisfaction, \n",
    "# followed by mortgages and credit reports.\n",
    "\n",
    "# The next thing we need to do is make sure all of our text inputs are the same. \n",
    "# The process involves first converting the input text to lowercase and then removing any special\n",
    "# characters or single characters that may be present. These actions are executed by the clean text() function, \n",
    "# which is defined and called in the subsequent script."
   ]
  },
  {
   "cell_type": "code",
   "execution_count": 7,
   "id": "87fb84d8",
   "metadata": {},
   "outputs": [],
   "source": [
    "def clean_text(text):\n",
    "\n",
    "    complaints = []\n",
    "\n",
    "    for comp in text:\n",
    "        # remove special characters\n",
    "        comp = re.sub(r'\\W', ' ', str(comp))\n",
    "\n",
    "        # remove single characters\n",
    "        comp  = re.sub(r'\\s+[a-zA-Z]\\s+', ' ', comp )\n",
    "\n",
    "        # Remove single characters from the beginning\n",
    "        comp  = re.sub(r'\\^[a-zA-Z]\\s+', ' ', comp)\n",
    "\n",
    "        # Converting to Lowercase\n",
    "        comp  = comp.lower()\n",
    "\n",
    "        complaints.append(comp)\n",
    "\n",
    "    return complaints\n",
    "\n",
    "complaints = clean_text(list(complaints_df['Consumer_Complaint']))"
   ]
  },
  {
   "cell_type": "code",
   "execution_count": null,
   "id": "35555cf7",
   "metadata": {},
   "outputs": [],
   "source": []
  },
  {
   "cell_type": "code",
   "execution_count": 8,
   "id": "b86c6c37",
   "metadata": {},
   "outputs": [
    {
     "data": {
      "text/html": [
       "<div>\n",
       "<style scoped>\n",
       "    .dataframe tbody tr th:only-of-type {\n",
       "        vertical-align: middle;\n",
       "    }\n",
       "\n",
       "    .dataframe tbody tr th {\n",
       "        vertical-align: top;\n",
       "    }\n",
       "\n",
       "    .dataframe thead th {\n",
       "        text-align: right;\n",
       "    }\n",
       "</style>\n",
       "<table border=\"1\" class=\"dataframe\">\n",
       "  <thead>\n",
       "    <tr style=\"text-align: right;\">\n",
       "      <th></th>\n",
       "      <th>Consumer_Complaint</th>\n",
       "      <th>Product</th>\n",
       "      <th>category_id</th>\n",
       "    </tr>\n",
       "  </thead>\n",
       "  <tbody>\n",
       "    <tr>\n",
       "      <th>1</th>\n",
       "      <td>I have outdated information on my credit repor...</td>\n",
       "      <td>Credit reporting</td>\n",
       "      <td>0</td>\n",
       "    </tr>\n",
       "    <tr>\n",
       "      <th>2</th>\n",
       "      <td>I purchased a new car on XXXX XXXX. The car de...</td>\n",
       "      <td>Consumer Loan</td>\n",
       "      <td>1</td>\n",
       "    </tr>\n",
       "    <tr>\n",
       "      <th>7</th>\n",
       "      <td>An account on my credit report has a mistaken ...</td>\n",
       "      <td>Credit reporting</td>\n",
       "      <td>0</td>\n",
       "    </tr>\n",
       "    <tr>\n",
       "      <th>12</th>\n",
       "      <td>This company refuses to provide me verificatio...</td>\n",
       "      <td>Debt collection</td>\n",
       "      <td>2</td>\n",
       "    </tr>\n",
       "    <tr>\n",
       "      <th>16</th>\n",
       "      <td>This complaint is in regards to Square Two Fin...</td>\n",
       "      <td>Debt collection</td>\n",
       "      <td>2</td>\n",
       "    </tr>\n",
       "  </tbody>\n",
       "</table>\n",
       "</div>"
      ],
      "text/plain": [
       "                                   Consumer_Complaint           Product  \\\n",
       "1   I have outdated information on my credit repor...  Credit reporting   \n",
       "2   I purchased a new car on XXXX XXXX. The car de...     Consumer Loan   \n",
       "7   An account on my credit report has a mistaken ...  Credit reporting   \n",
       "12  This company refuses to provide me verificatio...   Debt collection   \n",
       "16  This complaint is in regards to Square Two Fin...   Debt collection   \n",
       "\n",
       "    category_id  \n",
       "1             0  \n",
       "2             1  \n",
       "7             0  \n",
       "12            2  \n",
       "16            2  "
      ]
     },
     "execution_count": 8,
     "metadata": {},
     "output_type": "execute_result"
    }
   ],
   "source": [
    "complaints_df['category_id'] = complaints_df['Product'].factorize()[0]\n",
    "category_id_df = complaints_df[['Product', 'category_id']].drop_duplicates()\n",
    "\n",
    "\n",
    "# Dictionaries for future use\n",
    "category_to_id = dict(category_id_df.values)\n",
    "id_to_category = dict(category_id_df[['category_id', 'Product']].values)\n",
    "\n",
    "# New dataframe\n",
    "complaints_df.head()"
   ]
  },
  {
   "cell_type": "code",
   "execution_count": null,
   "id": "9747186e",
   "metadata": {},
   "outputs": [],
   "source": []
  },
  {
   "cell_type": "code",
   "execution_count": null,
   "id": "b303f8ae",
   "metadata": {},
   "outputs": [],
   "source": [
    "# Our last step is to transform the textual complaints we've received and the product categories \n",
    "# we've identified as a result into their corresponding quantitative equivalents. \n",
    "# Since machine learning models only understand numeric data, this is essential.\n",
    "\n",
    "# Converting text strings to numbers may be done in a variety of ways. \n",
    "# We'll be using the TFIDF method, which only accounts for the existence of words while translating text to numbers, \n",
    "# in this guide.\n",
    "\n",
    "# The TfidfVectorizer class included in the sklearn.feature extraction.text package may be used to put this strategy \n",
    "# into action. The following is an illustration of this procedure:"
   ]
  },
  {
   "cell_type": "code",
   "execution_count": 11,
   "id": "0f87d6be",
   "metadata": {},
   "outputs": [],
   "source": [
    "from sklearn.feature_extraction.text import TfidfVectorizer\n",
    "# tfid_conv = TfidfVectorizer(max_features=3000, min_df=10, max_df=0.7, stop_words=stopwords.words('english'))\n",
    "# X = tfid_conv.fit_transform(complaints).toarray()\n",
    "tfidf = TfidfVectorizer(max_features=3000, min_df=10, max_df=0.7, stop_words=stopwords.words('english'))\n",
    "\n",
    "# We transform each complaint into a vector\n",
    "features = tfidf.fit_transform(complaints_df.Consumer_Complaint).toarray()\n",
    "\n",
    "labels = complaints_df.category_id"
   ]
  },
  {
   "cell_type": "code",
   "execution_count": 12,
   "id": "88d9897a",
   "metadata": {},
   "outputs": [],
   "source": [
    "from sklearn.model_selection import train_test_split\n",
    "from sklearn.ensemble import RandomForestClassifier\n",
    "from sklearn.linear_model import LogisticRegression\n",
    "from sklearn.naive_bayes import MultinomialNB\n",
    "from sklearn.neighbors import KNeighborsClassifier\n",
    "from sklearn.svm import LinearSVC\n",
    "from sklearn.model_selection import cross_val_score\n",
    "from sklearn.metrics import confusion_matrix\n",
    "from sklearn import metrics\n",
    "X = complaints_df['Consumer_Complaint'] # Collection of documents\n",
    "y = complaints_df['Product'] # Target or the labels we want to predict (i.e., the 13 different complaints of products)\n",
    "\n",
    "X_train, X_test, y_train, y_test = train_test_split(X, y, \n",
    "                                                    test_size=0.25,\n",
    "                                                    random_state = 0)\n",
    "\n",
    "# X_train, X_test, y_train, y_test = train_test_split(X, y, test_size=0.2, random_state=42)"
   ]
  },
  {
   "cell_type": "code",
   "execution_count": null,
   "id": "bba54517",
   "metadata": {},
   "outputs": [],
   "source": [
    "# Our sklearn employee attrition model was trained with the Random Forest Classifier, so we'll be utilizing \n",
    "# the same classifier to train our text classification model. \n",
    "\n",
    "# Our model may be trained by calling the sklearn.ensemble module's fit() method on the \n",
    "# RandomForestClassifier class. The predict() function can be used for forecasting. \n",
    "# It could take some time for the following block to finish running because it trains our machine learning model."
   ]
  },
  {
   "cell_type": "code",
   "execution_count": null,
   "id": "a3b5d0bb",
   "metadata": {},
   "outputs": [],
   "source": [
    "models = [\n",
    "    LogisticRegression(random_state=0,max_iter=1000),\n",
    "    LinearSVC(),\n",
    "    RandomForestClassifier(n_estimators=100, max_depth=5, random_state=0),\n",
    "    MultinomialNB()\n",
    "]\n",
    "\n",
    "# 5 Cross-validation\n",
    "CV = 5\n",
    "cv_df = pd.DataFrame(index=range(CV * len(models)))\n",
    "\n",
    "entries = []\n",
    "for model in models:\n",
    "    model_name = model.__class__.__name__\n",
    "    accuracies = cross_val_score(model, features, labels, scoring='accuracy', cv=CV)\n",
    "    for fold_idx, accuracy in enumerate(accuracies):\n",
    "        entries.append((model_name, fold_idx, accuracy))\n",
    "    \n",
    "cv_df = pd.DataFrame(entries, columns=['model_name', 'fold_idx', 'accuracy'])"
   ]
  },
  {
   "cell_type": "code",
   "execution_count": 37,
   "id": "74d9bf61",
   "metadata": {},
   "outputs": [
    {
     "data": {
      "text/html": [
       "<div>\n",
       "<style scoped>\n",
       "    .dataframe tbody tr th:only-of-type {\n",
       "        vertical-align: middle;\n",
       "    }\n",
       "\n",
       "    .dataframe tbody tr th {\n",
       "        vertical-align: top;\n",
       "    }\n",
       "\n",
       "    .dataframe thead th {\n",
       "        text-align: right;\n",
       "    }\n",
       "</style>\n",
       "<table border=\"1\" class=\"dataframe\">\n",
       "  <thead>\n",
       "    <tr style=\"text-align: right;\">\n",
       "      <th></th>\n",
       "      <th>Mean Accuracy</th>\n",
       "      <th>Standard deviation</th>\n",
       "    </tr>\n",
       "    <tr>\n",
       "      <th>model_name</th>\n",
       "      <th></th>\n",
       "      <th></th>\n",
       "    </tr>\n",
       "  </thead>\n",
       "  <tbody>\n",
       "    <tr>\n",
       "      <th>LinearSVC</th>\n",
       "      <td>0.78491</td>\n",
       "      <td>0.001461</td>\n",
       "    </tr>\n",
       "    <tr>\n",
       "      <th>LogisticRegression</th>\n",
       "      <td>0.78795</td>\n",
       "      <td>0.002011</td>\n",
       "    </tr>\n",
       "    <tr>\n",
       "      <th>MultinomialNB</th>\n",
       "      <td>0.75023</td>\n",
       "      <td>0.000856</td>\n",
       "    </tr>\n",
       "    <tr>\n",
       "      <th>RandomForestClassifier</th>\n",
       "      <td>0.51563</td>\n",
       "      <td>0.003154</td>\n",
       "    </tr>\n",
       "  </tbody>\n",
       "</table>\n",
       "</div>"
      ],
      "text/plain": [
       "                        Mean Accuracy  Standard deviation\n",
       "model_name                                               \n",
       "LinearSVC                     0.78491            0.001461\n",
       "LogisticRegression            0.78795            0.002011\n",
       "MultinomialNB                 0.75023            0.000856\n",
       "RandomForestClassifier        0.51563            0.003154"
      ]
     },
     "execution_count": 37,
     "metadata": {},
     "output_type": "execute_result"
    }
   ],
   "source": [
    "mean_accuracy = cv_df.groupby('model_name').accuracy.mean()\n",
    "std_accuracy = cv_df.groupby('model_name').accuracy.std()\n",
    "\n",
    "acc = pd.concat([mean_accuracy, std_accuracy], axis= 1, \n",
    "          ignore_index=True)\n",
    "acc.columns = ['Mean Accuracy', 'Standard deviation']\n",
    "acc"
   ]
  },
  {
   "cell_type": "code",
   "execution_count": 50,
   "id": "81ffefcd",
   "metadata": {},
   "outputs": [],
   "source": [
    "X_train, X_test, y_train, y_test,indices_train,indices_test = train_test_split(features, \n",
    "                                                               labels, \n",
    "                                                               complaints_df.index, test_size=0.25, \n",
    "                                                               random_state=1)\n",
    "k_nn=KNeighborsClassifier(n_neighbors=500)\n",
    "k_nn.fit(X_train, y_train) \n",
    "\n",
    "y_pred = k_nn.predict(X_test)"
   ]
  },
  {
   "cell_type": "code",
   "execution_count": 51,
   "id": "5eb50385",
   "metadata": {},
   "outputs": [
    {
     "name": "stdout",
     "output_type": "stream",
     "text": [
      "              precision    recall  f1-score   support\n",
      "\n",
      "           0       0.62      0.85      0.71      4354\n",
      "           1       0.75      0.33      0.46      1237\n",
      "           2       0.79      0.81      0.80      6172\n",
      "           3       0.75      0.93      0.83      4652\n",
      "           4       0.65      0.73      0.69      2519\n",
      "           5       0.00      0.00      0.00        37\n",
      "           6       0.69      0.67      0.68      1999\n",
      "           7       0.83      0.78      0.81      1604\n",
      "           8       0.58      0.30      0.39       188\n",
      "           9       1.00      0.02      0.05       242\n",
      "          10       0.87      0.10      0.17       207\n",
      "          11       0.00      0.00      0.00        53\n",
      "          12       0.62      0.01      0.01      1162\n",
      "          13       0.00      0.00      0.00       173\n",
      "          14       0.00      0.00      0.00        74\n",
      "          15       0.00      0.00      0.00       267\n",
      "          16       0.00      0.00      0.00         2\n",
      "          17       0.00      0.00      0.00        58\n",
      "\n",
      "    accuracy                           0.72     25000\n",
      "   macro avg       0.45      0.31      0.31     25000\n",
      "weighted avg       0.70      0.72      0.68     25000\n",
      "\n",
      "0.71684\n"
     ]
    }
   ],
   "source": [
    "print(metrics.classification_report(y_test,y_pred, zero_division=0))\n",
    "print(metrics.accuracy_score(y_test, y_pred))"
   ]
  },
  {
   "cell_type": "code",
   "execution_count": 23,
   "id": "94e96cd7",
   "metadata": {},
   "outputs": [],
   "source": [
    "X_train, X_test, y_train, y_test,indices_train,indices_test = train_test_split(features, \n",
    "                                                               labels, \n",
    "                                                               complaints_df.index, test_size=0.25, \n",
    "                                                               random_state=1)\n",
    "model = LinearSVC()\n",
    "model.fit(X_train, y_train)\n",
    "y_pred = model.predict(X_test)"
   ]
  },
  {
   "cell_type": "code",
   "execution_count": 25,
   "id": "236a07cd",
   "metadata": {},
   "outputs": [
    {
     "name": "stdout",
     "output_type": "stream",
     "text": [
      "\t\t\t\tCLASSIFICATIION METRICS\n",
      "\n",
      "                                                                              precision    recall  f1-score   support\n",
      "\n",
      "                                                            Credit reporting       0.76      0.82      0.79      4354\n",
      "                                                               Consumer Loan       0.69      0.61      0.65      1237\n",
      "                                                             Debt collection       0.80      0.88      0.84      6172\n",
      "                                                                    Mortgage       0.91      0.95      0.93      4652\n",
      "                                                                 Credit card       0.73      0.81      0.77      2519\n",
      "                                                     Other financial service       1.00      0.08      0.15        37\n",
      "                                                     Bank account or service       0.75      0.80      0.77      1999\n",
      "                                                                Student loan       0.87      0.89      0.88      1604\n",
      "                                                             Money transfers       0.66      0.62      0.64       188\n",
      "                                                                 Payday loan       0.56      0.34      0.42       242\n",
      "                                                                Prepaid card       0.74      0.61      0.67       207\n",
      "                          Money transfer, virtual currency, or money service       0.76      0.30      0.43        53\n",
      "Credit reporting, credit repair services, or other personal consumer reports       0.58      0.23      0.33      1162\n",
      "                                                 Checking or savings account       0.32      0.05      0.09       173\n",
      "                                                       Vehicle loan or lease       0.00      0.00      0.00        74\n",
      "                                                 Credit card or prepaid card       0.31      0.04      0.08       267\n",
      "                                                            Virtual currency       0.00      0.00      0.00         2\n",
      "                                   Payday loan, title loan, or personal loan       0.50      0.03      0.06        58\n",
      "\n",
      "                                                                    accuracy                           0.79     25000\n",
      "                                                                   macro avg       0.61      0.45      0.47     25000\n",
      "                                                                weighted avg       0.78      0.79      0.78     25000\n",
      "\n"
     ]
    },
    {
     "name": "stderr",
     "output_type": "stream",
     "text": [
      "/Users/muzaffar/opt/anaconda3/lib/python3.9/site-packages/sklearn/metrics/_classification.py:1318: UndefinedMetricWarning: Precision and F-score are ill-defined and being set to 0.0 in labels with no predicted samples. Use `zero_division` parameter to control this behavior.\n",
      "  _warn_prf(average, modifier, msg_start, len(result))\n",
      "/Users/muzaffar/opt/anaconda3/lib/python3.9/site-packages/sklearn/metrics/_classification.py:1318: UndefinedMetricWarning: Precision and F-score are ill-defined and being set to 0.0 in labels with no predicted samples. Use `zero_division` parameter to control this behavior.\n",
      "  _warn_prf(average, modifier, msg_start, len(result))\n",
      "/Users/muzaffar/opt/anaconda3/lib/python3.9/site-packages/sklearn/metrics/_classification.py:1318: UndefinedMetricWarning: Precision and F-score are ill-defined and being set to 0.0 in labels with no predicted samples. Use `zero_division` parameter to control this behavior.\n",
      "  _warn_prf(average, modifier, msg_start, len(result))\n"
     ]
    }
   ],
   "source": [
    "print('\\t\\t\\t\\tCLASSIFICATIION METRICS\\n')\n",
    "print(metrics.classification_report(y_test, y_pred, \n",
    "                                    target_names= complaints_df['Product'].unique()))"
   ]
  },
  {
   "cell_type": "code",
   "execution_count": 26,
   "id": "c914fb29",
   "metadata": {},
   "outputs": [
    {
     "data": {
      "image/png": "[encoded data removed]",
      "text/plain": [
       "<Figure size 576x576 with 2 Axes>"
      ]
     },
     "metadata": {
      "needs_background": "light"
     },
     "output_type": "display_data"
    }
   ],
   "source": [
    "conf_mat = confusion_matrix(y_test, y_pred)\n",
    "fig, ax = plt.subplots(figsize=(8,8))\n",
    "sns.heatmap(conf_mat, annot=True, cmap=\"Blues\", fmt='d',\n",
    "            xticklabels=category_id_df.Product.values, \n",
    "            yticklabels=category_id_df.Product.values)\n",
    "plt.ylabel('Actual')\n",
    "plt.xlabel('Predicted')\n",
    "plt.title(\"CONFUSION MATRIX - LinearSVC\\n\", size=16);"
   ]
  },
  {
   "cell_type": "code",
   "execution_count": null,
   "id": "c4e5909a",
   "metadata": {},
   "outputs": [],
   "source": []
  },
  {
   "cell_type": "code",
   "execution_count": 27,
   "id": "0684f9b4",
   "metadata": {},
   "outputs": [],
   "source": [
    "X_train, X_test, y_train, y_test = train_test_split(X, y, \n",
    "                                                    test_size=0.25,\n",
    "                                                    random_state = 0)\n",
    "\n",
    "tfidf = TfidfVectorizer(max_features=3000, min_df=10, max_df=0.7, stop_words=stopwords.words('english'))\n",
    "\n",
    "fitted_vectorizer = tfidf.fit(X_train)\n",
    "tfidf_vectorizer_vectors = fitted_vectorizer.transform(X_train)\n",
    "\n",
    "model = LinearSVC().fit(tfidf_vectorizer_vectors, y_train)"
   ]
  },
  {
   "cell_type": "code",
   "execution_count": 29,
   "id": "e7090f4b",
   "metadata": {},
   "outputs": [
    {
     "name": "stdout",
     "output_type": "stream",
     "text": [
      "['Student loan']\n"
     ]
    }
   ],
   "source": [
    "new_complaint = \"\"\"I re-enrolled at XXXX XXXX University in the XX/XX/XXXX time period. In the past month, Navient has hounded me on a regular basis. I have faxed them documents including all they required. I continue to receive phone calls for payments. In addition, Navient is now sending my late payment to the credit bureaus. Navient must now get their act together to prevent me from pursuing further action. I have been enrolled the entire time, and my deferral should be legitimate with a graduation date of XX/XX/XXXX as scheduled.\"\"\"\n",
    "print(model.predict(fitted_vectorizer.transform([new_complaint])))\n"
   ]
  },
  {
   "cell_type": "code",
   "execution_count": null,
   "id": "68de4b91",
   "metadata": {},
   "outputs": [],
   "source": [
    "# Lets check another complaint"
   ]
  },
  {
   "cell_type": "code",
   "execution_count": 30,
   "id": "7a112108",
   "metadata": {},
   "outputs": [
    {
     "name": "stdout",
     "output_type": "stream",
     "text": [
      "['Credit reporting']\n"
     ]
    }
   ],
   "source": [
    "new_complaint_2 = \"\"\"As part of their latest data breach, Equifax divulged my personal information without my authorization.\n",
    "In addition, they delayed the release of the report and even permitted their higher management to sell off stock prior to the release.\"\"\"\n",
    "print(model.predict(fitted_vectorizer.transform([new_complaint_2])))"
   ]
  },
  {
   "cell_type": "code",
   "execution_count": 46,
   "id": "2c19b8a8",
   "metadata": {},
   "outputs": [],
   "source": [
    "X_train, X_test, y_train, y_test = train_test_split(X, y, \n",
    "                                                    test_size=0.25,\n",
    "                                                    random_state = 0)\n",
    "\n",
    "tfidf = TfidfVectorizer(max_features=3000, min_df=10, max_df=0.7, stop_words=stopwords.words('english'))\n",
    "\n",
    "fitted_vectorizer = tfidf.fit(X_train)\n",
    "tfidf_vectorizer_vectors = fitted_vectorizer.transform(X_train)\n",
    "k_nn=KNeighborsClassifier(n_neighbors=500)\n",
    "model1 = k_nn.fit(tfidf_vectorizer_vectors, y_train) "
   ]
  },
  {
   "cell_type": "code",
   "execution_count": 47,
   "id": "d45f5dd6",
   "metadata": {},
   "outputs": [
    {
     "name": "stdout",
     "output_type": "stream",
     "text": [
      "['Student loan']\n"
     ]
    }
   ],
   "source": [
    "new_complaint = \"\"\"I re-enrolled at XXXX XXXX University in the XX/XX/XXXX time period. In the past month, Navient has hounded me on a regular basis. I have faxed them documents including all they required. I continue to receive phone calls for payments. In addition, Navient is now sending my late payment to the credit bureaus. Navient must now get their act together to prevent me from pursuing further action. I have been enrolled the entire time, and my deferral should be legitimate with a graduation date of XX/XX/XXXX as scheduled.\"\"\"\n",
    "print(model1.predict(fitted_vectorizer.transform([new_complaint])))\n"
   ]
  },
  {
   "cell_type": "code",
   "execution_count": 48,
   "id": "9c695079",
   "metadata": {},
   "outputs": [
    {
     "name": "stdout",
     "output_type": "stream",
     "text": [
      "['Credit reporting']\n"
     ]
    }
   ],
   "source": [
    "new_complaint_2 = \"\"\"As part of their latest data breach, Equifax divulged my personal information without my authorization.\n",
    "In addition, they delayed the release of the report and even permitted their higher management to sell off stock prior to the release.\"\"\"\n",
    "print(model1.predict(fitted_vectorizer.transform([new_complaint_2])))"
   ]
  }
 ],
 "metadata": {
  "kernelspec": {
   "display_name": "Python 3 (ipykernel)",
   "language": "python",
   "name": "python3"
  },
  "language_info": {
   "codemirror_mode": {
    "name": "ipython",
    "version": 3
   },
   "file_extension": ".py",
   "mimetype": "text/x-python",
   "name": "python",
   "nbconvert_exporter": "python",
   "pygments_lexer": "ipython3",
   "version": "3.9.12"
  }
 },
 "nbformat": 4,
 "nbformat_minor": 5
}
